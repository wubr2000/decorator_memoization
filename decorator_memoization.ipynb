{
 "metadata": {
  "name": "",
  "signature": "sha256:1e2e641218c0902a7b9b7db0d9b8b5cfe13f231fefdbff34ac507ed6d933ed10"
 },
 "nbformat": 3,
 "nbformat_minor": 0,
 "worksheets": [
  {
   "cells": [
    {
     "cell_type": "markdown",
     "metadata": {},
     "source": [
      "##Fuctions of Python Decorators"
     ]
    },
    {
     "cell_type": "markdown",
     "metadata": {},
     "source": [
      "###Example from:\n",
      "https://www.andreagrandi.it/2015/08/31/understanding-python-decorators-optimizing-a-recursive-fibonacci-implementation/"
     ]
    },
    {
     "cell_type": "code",
     "collapsed": false,
     "input": [
      "# First example, not using the memoize decorator\n",
      "import timeit\n",
      " \n",
      "def fib(n):\n",
      "    if n < 2:\n",
      "        return n\n",
      "    else:\n",
      "        return fib(n-1) + fib(n-2)\n",
      " \n",
      "t1 = timeit.Timer(\"fib(35)\", \"from __main__ import fib\")\n",
      "print t1.timeit(1)"
     ],
     "language": "python",
     "metadata": {},
     "outputs": [
      {
       "output_type": "stream",
       "stream": "stdout",
       "text": [
        "3.72050499916\n"
       ]
      }
     ],
     "prompt_number": 1
    },
    {
     "cell_type": "code",
     "collapsed": false,
     "input": [
      "from IPython.display import Image\n",
      "Image(filename='fibo.png') "
     ],
     "language": "python",
     "metadata": {},
     "outputs": [
      {
       "metadata": {},
       "output_type": "pyout",
       "png": "[encoded data removed]",
       "prompt_number": 5,
       "text": [
        "<IPython.core.display.Image at 0x104b4c7d0>"
       ]
      }
     ],
     "prompt_number": 5
    },
    {
     "cell_type": "markdown",
     "metadata": {},
     "source": [
      "> Fib(5) is Fib(4) + Fib(3), but Fib(4) itself is Fib(3) + Fib(2), and\u2026 the picture just tell us that we have calculated Fib(3) 2 times, Fib(2) 3 times, Fib(1) 5 times! Why are we repeating the same operation every time if we already calculated the result? \n",
      "\n",
      "> In computing, memoization is an optimization technique used primarily to speed up computer programs by storing the results of expensive function calls and returning the cached result when the same inputs occur again.\n"
     ]
    },
    {
     "cell_type": "code",
     "collapsed": false,
     "input": [
      "#Memoization decorator\n",
      "def memoize(function):\n",
      "    cache = {}\n",
      "\n",
      "    def decorated_function(*args):\n",
      "        if args in cache:\n",
      "            return cache[args]\n",
      "        else:\n",
      "            val = function(*args)\n",
      "            cache[args] = val\n",
      "            return val\n",
      "    return decorated_function"
     ],
     "language": "python",
     "metadata": {},
     "outputs": [],
     "prompt_number": 2
    },
    {
     "cell_type": "code",
     "collapsed": false,
     "input": [
      "@memoize\n",
      "def fib(n):\n",
      "    if n < 2:\n",
      "        return n\n",
      "    else:\n",
      "        return fib(n-1) + fib(n-2)\n",
      " \n",
      "t1 = timeit.Timer(\"fib(35)\", \"from __main__ import fib\")\n",
      "print t1.timeit(1)"
     ],
     "language": "python",
     "metadata": {},
     "outputs": [
      {
       "output_type": "stream",
       "stream": "stdout",
       "text": [
        "0.000117778778076\n"
       ]
      }
     ],
     "prompt_number": 3
    },
    {
     "cell_type": "code",
     "collapsed": false,
     "input": [],
     "language": "python",
     "metadata": {},
     "outputs": []
    }
   ],
   "metadata": {}
  }
 ]
}